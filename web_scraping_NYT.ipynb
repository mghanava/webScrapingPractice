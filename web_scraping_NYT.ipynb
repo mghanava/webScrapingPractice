{
 "cells": [
  {
   "cell_type": "code",
   "execution_count": 1,
   "metadata": {},
   "outputs": [],
   "source": [
    "# import libraries \n",
    "import pandas as pd\n",
    "from bs4 import BeautifulSoup\n",
    "import requests\n",
    "\n",
    "# fetches the required webpage from the URL and stores the results in a response object \n",
    "r = requests.get(\n",
    "    'https://www.nytimes.com/interactive/2017/06/23/opinion/trumps-lies.html')\n",
    "# parses the HTML into a special object to read it and make sense of the structure\n",
    "soup = BeautifulSoup(r.text, 'html.parser')\n",
    "# collecting all information with the sepcific HTML tag \n",
    "results = soup.find_all('span', attrs={'class': 'short-desc'}) \n",
    "\n",
    "# break down information contents into the required substituents \n",
    "lie_records = []\n",
    "for result in results:\n",
    "    date = result.find('strong').text[:-1] + ' , 2017'\n",
    "    lie = result.contents[1][1:-2]\n",
    "    explanation = result.find('a').text[1:-1]\n",
    "    url = result.find('a')['href']\n",
    "    lie_records.append((date, lie, explanation, url))\n",
    "\n",
    "# make the list of records more readable through converting to a dataframe\n",
    "df = pd.DataFrame(lie_records, columns=['date', 'lie', 'explanation', 'url'])\n",
    "# convert date into pandas datetime format for the sake of consitency and calculability\n",
    "df['date'] = pd.to_datetime(df['date'])\n",
    "# check dataframe\n",
    "df.head()\n",
    "# save dataframe in csv format\n",
    "df.to_csv('lies.csv', index=False, encoding='utf-8')"
   ]
  },
  {
   "cell_type": "code",
   "execution_count": 2,
   "metadata": {},
   "outputs": [
    {
     "data": {
      "application/json": {
       "Software versions": [
        {
         "module": "Python",
         "version": "3.7.4 64bit [MSC v.1915 64 bit (AMD64)]"
        },
        {
         "module": "IPython",
         "version": "7.10.2"
        },
        {
         "module": "OS",
         "version": "Windows 10 10.0.17763 SP0"
        },
        {
         "module": "BeautifulSoup4",
         "version": "4.8.2"
        },
        {
         "module": "requests",
         "version": "2.22.0"
        },
        {
         "module": "pandas",
         "version": "0.25.3"
        }
       ]
      },
      "text/html": [
       "<table><tr><th>Software</th><th>Version</th></tr><tr><td>Python</td><td>3.7.4 64bit [MSC v.1915 64 bit (AMD64)]</td></tr><tr><td>IPython</td><td>7.10.2</td></tr><tr><td>OS</td><td>Windows 10 10.0.17763 SP0</td></tr><tr><td>BeautifulSoup4</td><td>4.8.2</td></tr><tr><td>requests</td><td>2.22.0</td></tr><tr><td>pandas</td><td>0.25.3</td></tr><tr><td colspan='2'>Wed Dec 25 23:24:40 2019 Mountain Standard Time</td></tr></table>"
      ],
      "text/latex": [
       "\\begin{tabular}{|l|l|}\\hline\n",
       "{\\bf Software} & {\\bf Version} \\\\ \\hline\\hline\n",
       "Python & 3.7.4 64bit [MSC v.1915 64 bit (AMD64)] \\\\ \\hline\n",
       "IPython & 7.10.2 \\\\ \\hline\n",
       "OS & Windows 10 10.0.17763 SP0 \\\\ \\hline\n",
       "BeautifulSoup4 & 4.8.2 \\\\ \\hline\n",
       "requests & 2.22.0 \\\\ \\hline\n",
       "pandas & 0.25.3 \\\\ \\hline\n",
       "\\hline \\multicolumn{2}{|l|}{Wed Dec 25 23:24:40 2019 Mountain Standard Time} \\\\ \\hline\n",
       "\\end{tabular}\n"
      ],
      "text/plain": [
       "Software versions\n",
       "Python 3.7.4 64bit [MSC v.1915 64 bit (AMD64)]\n",
       "IPython 7.10.2\n",
       "OS Windows 10 10.0.17763 SP0\n",
       "BeautifulSoup4 4.8.2\n",
       "requests 2.22.0\n",
       "pandas 0.25.3\n",
       "Wed Dec 25 23:24:40 2019 Mountain Standard Time"
      ]
     },
     "execution_count": 2,
     "metadata": {},
     "output_type": "execute_result"
    }
   ],
   "source": [
    "%reload_ext version_information\n",
    "%version_information BeautifulSoup4, requests, pandas "
   ]
  }
 ],
 "metadata": {
  "kernelspec": {
   "display_name": "Python 3",
   "language": "python",
   "name": "python3"
  },
  "language_info": {
   "codemirror_mode": {
    "name": "ipython",
    "version": 3
   },
   "file_extension": ".py",
   "mimetype": "text/x-python",
   "name": "python",
   "nbconvert_exporter": "python",
   "pygments_lexer": "ipython3",
   "version": "3.7.4"
  },
  "varInspector": {
   "cols": {
    "lenName": 16,
    "lenType": 16,
    "lenVar": 40
   },
   "kernels_config": {
    "python": {
     "delete_cmd_postfix": "",
     "delete_cmd_prefix": "del ",
     "library": "var_list.py",
     "varRefreshCmd": "print(var_dic_list())"
    },
    "r": {
     "delete_cmd_postfix": ") ",
     "delete_cmd_prefix": "rm(",
     "library": "var_list.r",
     "varRefreshCmd": "cat(var_dic_list()) "
    }
   },
   "types_to_exclude": [
    "module",
    "function",
    "builtin_function_or_method",
    "instance",
    "_Feature"
   ],
   "window_display": false
  }
 },
 "nbformat": 4,
 "nbformat_minor": 4
}